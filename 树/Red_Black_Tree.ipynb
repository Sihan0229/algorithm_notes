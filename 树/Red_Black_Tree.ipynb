{
 "cells": [
  {
   "cell_type": "markdown",
   "metadata": {},
   "source": [
    "红黑树（Red Black Tree）=平衡二叉B树（symmetric binary B-trees）\n",
    "\n",
    "在进行插入和删除操作时通过特定操作保持二叉查找树的平衡"
   ]
  },
  {
   "cell_type": "code",
   "execution_count": null,
   "metadata": {
    "vscode": {
     "languageId": "plaintext"
    }
   },
   "outputs": [],
   "source": []
  }
 ],
 "metadata": {
  "language_info": {
   "name": "python"
  }
 },
 "nbformat": 4,
 "nbformat_minor": 2
}
